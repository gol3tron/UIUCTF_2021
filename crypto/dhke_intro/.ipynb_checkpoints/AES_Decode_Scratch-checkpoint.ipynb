{
 "cells": [
  {
   "cell_type": "code",
   "execution_count": 20,
   "id": "optimum-aerospace",
   "metadata": {},
   "outputs": [],
   "source": [
    "import random\n",
    "from Crypto.Cipher import AES"
   ]
  },
  {
   "cell_type": "code",
   "execution_count": 30,
   "id": "empty-moral",
   "metadata": {},
   "outputs": [
    {
     "name": "stdout",
     "output_type": "stream",
     "text": [
      "3 31 16 13 7\n"
     ]
    }
   ],
   "source": [
    "# generate key\n",
    "gpList = [ [13, 19], [7, 17], [3, 31], [13, 19], [17, 23], [2, 29] ]\n",
    "g, p = random.choice(gpList)\n",
    "a = random.randint(1, p)\n",
    "b = random.randint(1, p)\n",
    "k = pow(g, a * b, p)\n",
    "k = str(k)\n",
    "print(g,p,a,b,k)"
   ]
  },
  {
   "cell_type": "code",
   "execution_count": 31,
   "id": "expanded-retro",
   "metadata": {},
   "outputs": [
    {
     "name": "stdout",
     "output_type": "stream",
     "text": [
      "b'uiuctf2021uiuct7' 7\n"
     ]
    }
   ],
   "source": [
    "# pad key to 16 bytes (128bit)\n",
    "key = \"\"\n",
    "i = 0\n",
    "padding = \"uiuctf2021uiuctf2021\"\n",
    "while (16 - len(key) != len(k)):\n",
    "    key = key + padding[i]\n",
    "    i += 1\n",
    "key = key + k\n",
    "key = bytes(key, encoding='ascii')\n",
    "print(key,k)"
   ]
  },
  {
   "cell_type": "code",
   "execution_count": 4,
   "id": "twelve-indication",
   "metadata": {},
   "outputs": [],
   "source": [
    "with open('flag.txt', 'rb') as f:\n",
    "    flag = f.read()"
   ]
  },
  {
   "cell_type": "code",
   "execution_count": 5,
   "id": "meaning-scott",
   "metadata": {},
   "outputs": [],
   "source": [
    "iv = bytes(\"kono DIO daaaaaa\", encoding = 'ascii')\n",
    "cipher = AES.new(key, AES.MODE_CFB, iv)\n",
    "ciphertext = cipher.encrypt(flag)\n",
    "#ciphertext = 'b31699d587f7daf8f6b23b30cfee0edca5d6a3594cd53e1646b9e72de6fc44fe7ad40f0ea6'"
   ]
  },
  {
   "cell_type": "code",
   "execution_count": 48,
   "id": "convenient-prison",
   "metadata": {},
   "outputs": [
    {
     "name": "stdout",
     "output_type": "stream",
     "text": [
      "ceed594c9bb402cbecf9384cc38503aa00aee611d64acea1eec4b215\n",
      "b'\\xce\\xedYL\\x9b\\xb4\\x02\\xcb\\xec\\xf98L\\xc3\\x85\\x03\\xaa\\x00\\xae\\xe6\\x11\\xd6J\\xce\\xa1\\xee\\xc4\\xb2\\x15'\n",
      "a was 16\n",
      "b was 13\n",
      "k was 7\n",
      "<class 'bytes'>\n"
     ]
    },
    {
     "ename": "UnicodeDecodeError",
     "evalue": "'utf-8' codec can't decode byte 0xce in position 0: invalid continuation byte",
     "output_type": "error",
     "traceback": [
      "\u001b[0;31m---------------------------------------------------------------------------\u001b[0m",
      "\u001b[0;31mUnicodeDecodeError\u001b[0m                        Traceback (most recent call last)",
      "\u001b[0;32m<ipython-input-48-14f288c41970>\u001b[0m in \u001b[0;36m<module>\u001b[0;34m\u001b[0m\n\u001b[1;32m      5\u001b[0m \u001b[0mprint\u001b[0m\u001b[0;34m(\u001b[0m\u001b[0;34m\"k was \"\u001b[0m\u001b[0;34m+\u001b[0m\u001b[0mstr\u001b[0m\u001b[0;34m(\u001b[0m\u001b[0mk\u001b[0m\u001b[0;34m)\u001b[0m\u001b[0;34m)\u001b[0m\u001b[0;34m\u001b[0m\u001b[0;34m\u001b[0m\u001b[0m\n\u001b[1;32m      6\u001b[0m \u001b[0mprint\u001b[0m\u001b[0;34m(\u001b[0m\u001b[0mtype\u001b[0m\u001b[0;34m(\u001b[0m\u001b[0mciphertext\u001b[0m\u001b[0;34m)\u001b[0m\u001b[0;34m)\u001b[0m\u001b[0;34m\u001b[0m\u001b[0;34m\u001b[0m\u001b[0m\n\u001b[0;32m----> 7\u001b[0;31m \u001b[0mprint\u001b[0m\u001b[0;34m(\u001b[0m\u001b[0mciphertext\u001b[0m\u001b[0;34m.\u001b[0m\u001b[0mdecode\u001b[0m\u001b[0;34m(\u001b[0m\u001b[0;34m'UTF-8'\u001b[0m\u001b[0;34m)\u001b[0m\u001b[0;34m)\u001b[0m\u001b[0;34m\u001b[0m\u001b[0;34m\u001b[0m\u001b[0m\n\u001b[0m",
      "\u001b[0;31mUnicodeDecodeError\u001b[0m: 'utf-8' codec can't decode byte 0xce in position 0: invalid continuation byte"
     ]
    }
   ],
   "source": [
    "print(ciphertext.hex())\n",
    "print(ciphertext)\n",
    "print(\"a was \"+str(a))\n",
    "print(\"b was \"+str(b))\n",
    "print(\"k was \"+str(k))\n",
    "print(type(ciphertext))\n",
    "#print(ciphertext.decode('UTF-8'))"
   ]
  },
  {
   "cell_type": "code",
   "execution_count": 7,
   "id": "italic-azerbaijan",
   "metadata": {},
   "outputs": [],
   "source": [
    "# attempt decrypt w/ key_try and iv given\n",
    "cipher_out = AES.new(key, AES.MODE_CFB, iv)\n",
    "pt = cipher_out.decrypt(ciphertext)"
   ]
  },
  {
   "cell_type": "code",
   "execution_count": 8,
   "id": "touched-street",
   "metadata": {},
   "outputs": [
    {
     "data": {
      "text/plain": [
       "b'uiuctf{here_is_a_flag_test}\\n'"
      ]
     },
     "execution_count": 8,
     "metadata": {},
     "output_type": "execute_result"
    }
   ],
   "source": [
    "pt"
   ]
  },
  {
   "cell_type": "code",
   "execution_count": 59,
   "id": "mechanical-richards",
   "metadata": {},
   "outputs": [
    {
     "name": "stdout",
     "output_type": "stream",
     "text": [
      "bytearray(b'\\xb3\\x16\\x99\\xd5\\x87\\xf7\\xda\\xf8\\xf6\\xb2;0\\xcf\\xee\\x0e\\xdc\\xa5\\xd6\\xa3YL\\xd5>\\x16F\\xb9\\xe7-\\xe6\\xfcD\\xfez\\xd4\\x0f\\x0e\\xa6')\n"
     ]
    }
   ],
   "source": [
    "ciphertext_real = b'b31699d587f7daf8f6b23b30cfee0edca5d6a3594cd53e1646b9e72de6fc44fe7ad40f0ea6'\n",
    "ct_real = bytearray.fromhex(ciphertext_real.decode())\n",
    "print(ct_real)"
   ]
  },
  {
   "cell_type": "code",
   "execution_count": 60,
   "id": "biblical-boston",
   "metadata": {},
   "outputs": [],
   "source": [
    "cipher_out_real = AES.new(key, AES.MODE_CFB, iv)\n",
    "pt_real = cipher_out_real.decrypt(ct_real)"
   ]
  },
  {
   "cell_type": "code",
   "execution_count": 61,
   "id": "nominated-missile",
   "metadata": {},
   "outputs": [
    {
     "data": {
      "text/plain": [
       "b'\\x08\\xe0x\\x9eYQ\\xb3!}I{\\xdb\\xb0\\xb1\\xed\\xdf\\xc7\\xbd\\x01\\x8c\\xba\\x9c\\xe2\\xfa_r\\x0b\\xfc\\xd8\\x03\\xd4\\x7fN\\xe2j\\x0f\\xf0'"
      ]
     },
     "execution_count": 61,
     "metadata": {},
     "output_type": "execute_result"
    }
   ],
   "source": [
    "pt_real"
   ]
  },
  {
   "cell_type": "code",
   "execution_count": null,
   "id": "shared-issue",
   "metadata": {},
   "outputs": [],
   "source": []
  }
 ],
 "metadata": {
  "kernelspec": {
   "display_name": "Python 3",
   "language": "python",
   "name": "python3"
  },
  "language_info": {
   "codemirror_mode": {
    "name": "ipython",
    "version": 3
   },
   "file_extension": ".py",
   "mimetype": "text/x-python",
   "name": "python",
   "nbconvert_exporter": "python",
   "pygments_lexer": "ipython3",
   "version": "3.9.5"
  }
 },
 "nbformat": 4,
 "nbformat_minor": 5
}
